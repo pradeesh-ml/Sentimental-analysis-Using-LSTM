{
 "cells": [
  {
   "cell_type": "code",
   "execution_count": 19,
   "id": "49de8c59",
   "metadata": {},
   "outputs": [],
   "source": [
    "# Importing Libraries\n",
    "import pandas as pd\n",
    "import re\n",
    "import nltk\n",
    "import keras\n",
    "from sklearn.preprocessing import LabelEncoder\n",
    "from sklearn.model_selection import train_test_split\n",
    "from sklearn.metrics import classification_report, accuracy_score\n",
    "from nltk.corpus import stopwords\n",
    "from tensorflow.keras.preprocessing.text import Tokenizer\n",
    "from tensorflow.keras.preprocessing.sequence import pad_sequences"
   ]
  },
  {
   "cell_type": "code",
   "execution_count": 20,
   "id": "db0a7b21",
   "metadata": {},
   "outputs": [
    {
     "name": "stderr",
     "output_type": "stream",
     "text": [
      "[nltk_data] Downloading package stopwords to\n",
      "[nltk_data]     C:\\Users\\Pradeesh\\AppData\\Roaming\\nltk_data...\n",
      "[nltk_data]   Package stopwords is already up-to-date!\n",
      "[nltk_data] Downloading package wordnet to\n",
      "[nltk_data]     C:\\Users\\Pradeesh\\AppData\\Roaming\\nltk_data...\n",
      "[nltk_data]   Package wordnet is already up-to-date!\n"
     ]
    },
    {
     "data": {
      "text/plain": [
       "True"
      ]
     },
     "execution_count": 20,
     "metadata": {},
     "output_type": "execute_result"
    }
   ],
   "source": [
    "# Downloading NLTK Resources\n",
    "nltk.download('stopwords')\n",
    "nltk.download('wordnet')"
   ]
  },
  {
   "cell_type": "code",
   "execution_count": 21,
   "id": "88b11690",
   "metadata": {},
   "outputs": [],
   "source": [
    "# Load Dataset\n",
    "data = pd.read_csv(\"IMDB Dataset.csv\")"
   ]
  },
  {
   "cell_type": "code",
   "execution_count": 22,
   "id": "c3d475b1",
   "metadata": {},
   "outputs": [],
   "source": [
    "def clean_review(text):\n",
    "    text = re.sub(r'<.*?>', '', text)\n",
    "    text = re.sub(r'https?://\\S+|www\\.\\S+', '', text)\n",
    "    text = re.sub(r'@\\w+|#\\w+', '', text)\n",
    "    text = re.sub(r'[^\\w\\s]', '', text)\n",
    "    text = re.sub(r'\\d+', '', text)\n",
    "    text = text.lower()\n",
    "    text = re.sub(r'\\s+', ' ', text).strip()\n",
    "    return text"
   ]
  },
  {
   "cell_type": "code",
   "execution_count": 23,
   "id": "f8c33097",
   "metadata": {},
   "outputs": [],
   "source": [
    "# Apply Cleaning\n",
    "data['review'] = data['review'].apply(clean_review)"
   ]
  },
  {
   "cell_type": "code",
   "execution_count": 24,
   "id": "75a52213",
   "metadata": {},
   "outputs": [],
   "source": [
    "# Remove Stopwords\n",
    "stop_words = set(stopwords.words('english'))\n",
    "data['review'] = data['review'].apply(lambda x: ' '.join([word for word in x.split() if word not in stop_words]))"
   ]
  },
  {
   "cell_type": "code",
   "execution_count": 25,
   "id": "75adf6a2",
   "metadata": {},
   "outputs": [],
   "source": [
    "# Lemmatization\n",
    "lemmatizer = nltk.stem.WordNetLemmatizer()\n",
    "w_tokenizer = nltk.tokenize.WhitespaceTokenizer()"
   ]
  },
  {
   "cell_type": "code",
   "execution_count": 26,
   "id": "2fd4dca2",
   "metadata": {},
   "outputs": [],
   "source": [
    "def lemmatize_text(text):\n",
    "    return ' '.join([lemmatizer.lemmatize(w) for w in w_tokenizer.tokenize(text)])\n",
    "\n",
    "data['review'] = data['review'].apply(lemmatize_text)"
   ]
  },
  {
   "cell_type": "code",
   "execution_count": 27,
   "id": "422a36da",
   "metadata": {},
   "outputs": [],
   "source": [
    "# Encode Sentiment\n",
    "encoder = LabelEncoder()\n",
    "data['sentiment'] = encoder.fit_transform(data['sentiment'])"
   ]
  },
  {
   "cell_type": "code",
   "execution_count": 28,
   "id": "ce514a7c",
   "metadata": {},
   "outputs": [],
   "source": [
    "# Train-Test Split\n",
    "X = data['review'].values\n",
    "y = data['sentiment'].values\n",
    "X_train, X_test, y_train, y_test = train_test_split(X, y, test_size=0.2, random_state=42)"
   ]
  },
  {
   "cell_type": "code",
   "execution_count": 29,
   "id": "a972a042",
   "metadata": {},
   "outputs": [],
   "source": [
    "# Tokenization and Padding\n",
    "tokenizer = Tokenizer(num_words=3000, oov_token='<OOV>')\n",
    "tokenizer.fit_on_texts(X_train)"
   ]
  },
  {
   "cell_type": "code",
   "execution_count": 30,
   "id": "5a1e6ac1",
   "metadata": {},
   "outputs": [],
   "source": [
    "\n",
    "train_sequences = tokenizer.texts_to_sequences(X_train)\n",
    "train_padded = pad_sequences(train_sequences, padding='post', maxlen=200)\n",
    "\n",
    "\n",
    "test_sequences = tokenizer.texts_to_sequences(X_test)\n",
    "test_padded = pad_sequences(test_sequences, padding='post', maxlen=200)\n"
   ]
  },
  {
   "cell_type": "code",
   "execution_count": 31,
   "id": "ed1a8aa8",
   "metadata": {},
   "outputs": [],
   "source": [
    "# Model Building\n",
    "model = keras.Sequential([\n",
    "    keras.layers.Embedding(3000, 100, input_length=200),\n",
    "    keras.layers.Bidirectional(keras.layers.LSTM(64)),\n",
    "    keras.layers.Dense(24, activation='relu'),\n",
    "    keras.layers.Dense(1, activation='sigmoid')\n",
    "])"
   ]
  },
  {
   "cell_type": "code",
   "execution_count": 32,
   "id": "35ed115b",
   "metadata": {},
   "outputs": [
    {
     "name": "stdout",
     "output_type": "stream",
     "text": [
      "Model: \"sequential_1\"\n",
      "_________________________________________________________________\n",
      " Layer (type)                Output Shape              Param #   \n",
      "=================================================================\n",
      " embedding_1 (Embedding)     (None, 200, 100)          300000    \n",
      "                                                                 \n",
      " bidirectional_1 (Bidirectio  (None, 128)              84480     \n",
      " nal)                                                            \n",
      "                                                                 \n",
      " dense_2 (Dense)             (None, 24)                3096      \n",
      "                                                                 \n",
      " dense_3 (Dense)             (None, 1)                 25        \n",
      "                                                                 \n",
      "=================================================================\n",
      "Total params: 387,601\n",
      "Trainable params: 387,601\n",
      "Non-trainable params: 0\n",
      "_________________________________________________________________\n"
     ]
    }
   ],
   "source": [
    "# Compile Model\n",
    "model.compile(loss='binary_crossentropy', optimizer='adam', metrics=['accuracy'])\n",
    "model.summary()"
   ]
  },
  {
   "cell_type": "code",
   "execution_count": 33,
   "id": "40dcb638",
   "metadata": {},
   "outputs": [
    {
     "name": "stdout",
     "output_type": "stream",
     "text": [
      "Epoch 1/5\n",
      "1125/1125 [==============================] - 152s 126ms/step - loss: 0.3998 - accuracy: 0.8194 - val_loss: 0.3133 - val_accuracy: 0.8702\n",
      "Epoch 2/5\n",
      "1125/1125 [==============================] - 140s 124ms/step - loss: 0.2903 - accuracy: 0.8807 - val_loss: 0.3060 - val_accuracy: 0.8702\n",
      "Epoch 3/5\n",
      "1125/1125 [==============================] - 126s 112ms/step - loss: 0.2561 - accuracy: 0.8983 - val_loss: 0.3066 - val_accuracy: 0.8802\n",
      "Epoch 4/5\n",
      "1125/1125 [==============================] - 92s 82ms/step - loss: 0.2346 - accuracy: 0.9074 - val_loss: 0.3203 - val_accuracy: 0.8748\n",
      "Epoch 5/5\n",
      "1125/1125 [==============================] - 90s 80ms/step - loss: 0.1946 - accuracy: 0.9251 - val_loss: 0.3410 - val_accuracy: 0.8712\n"
     ]
    }
   ],
   "source": [
    "# Train Model\n",
    "history = model.fit(train_padded, y_train, epochs=5, verbose=1, validation_split=0.1)"
   ]
  },
  {
   "cell_type": "code",
   "execution_count": 34,
   "id": "9d15af33",
   "metadata": {},
   "outputs": [
    {
     "name": "stdout",
     "output_type": "stream",
     "text": [
      "313/313 [==============================] - 9s 27ms/step\n"
     ]
    }
   ],
   "source": [
    "# Predictions\n",
    "pred_probs = model.predict(test_padded)\n",
    "pred_labels = [1 if prob >= 0.5 else 0 for prob in pred_probs]"
   ]
  },
  {
   "cell_type": "code",
   "execution_count": 37,
   "id": "1810deee",
   "metadata": {},
   "outputs": [
    {
     "name": "stdout",
     "output_type": "stream",
     "text": [
      "Accuracy on test set: 0.87\n",
      "              precision    recall  f1-score   support\n",
      "\n",
      "           0       0.91      0.82      0.86      4961\n",
      "           1       0.84      0.92      0.88      5039\n",
      "\n",
      "    accuracy                           0.87     10000\n",
      "   macro avg       0.87      0.87      0.87     10000\n",
      "weighted avg       0.87      0.87      0.87     10000\n",
      "\n"
     ]
    }
   ],
   "source": [
    "# Evaluation\n",
    "print(\"Accuracy on test set:\", accuracy_score(y_test, pred_labels))\n",
    "print(classification_report(y_test, pred_labels))"
   ]
  },
  {
   "cell_type": "code",
   "execution_count": 38,
   "id": "e9222ae5",
   "metadata": {},
   "outputs": [],
   "source": [
    "# Inference\n",
    "sample_sentences = [\n",
    "    \"The movie was very touching and heart whelming\", \n",
    "    \"I have never seen a terrible movie like this\", \n",
    "    \"The movie plot is terrible but it had good acting\"\n",
    "]"
   ]
  },
  {
   "cell_type": "code",
   "execution_count": 36,
   "id": "52dc2293",
   "metadata": {},
   "outputs": [
    {
     "name": "stdout",
     "output_type": "stream",
     "text": [
      "1/1 [==============================] - 0s 26ms/step\n",
      "The movie was very touching and heart whelming\n",
      "Predicted Sentiment: Positive\n",
      "\n",
      "I have never seen a terrible movie like this\n",
      "Predicted Sentiment: Negative\n",
      "\n",
      "The movie plot is terrible but it had good acting\n",
      "Predicted Sentiment: Negative\n",
      "\n"
     ]
    }
   ],
   "source": [
    "sample_sequences = tokenizer.texts_to_sequences(sample_sentences)\n",
    "sample_padded = pad_sequences(sample_sequences, padding='post', maxlen=200)\n",
    "\n",
    "sample_preds = model.predict(sample_padded)\n",
    "sample_labels = ['Positive' if p >= 0.5 else 'Negative' for p in sample_preds]\n",
    "\n",
    "for sentence, label in zip(sample_sentences, sample_labels):\n",
    "    print(f\"{sentence}\\nPredicted Sentiment: {label}\\n\")"
   ]
  },
  {
   "cell_type": "code",
   "execution_count": null,
   "id": "77343d86",
   "metadata": {},
   "outputs": [],
   "source": []
  }
 ],
 "metadata": {
  "kernelspec": {
   "display_name": "dl_env",
   "language": "python",
   "name": "python3"
  },
  "language_info": {
   "codemirror_mode": {
    "name": "ipython",
    "version": 3
   },
   "file_extension": ".py",
   "mimetype": "text/x-python",
   "name": "python",
   "nbconvert_exporter": "python",
   "pygments_lexer": "ipython3",
   "version": "3.10.16"
  }
 },
 "nbformat": 4,
 "nbformat_minor": 5
}
